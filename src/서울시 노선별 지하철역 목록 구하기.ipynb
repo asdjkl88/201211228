{
 "cells": [
  {
   "cell_type": "code",
   "execution_count": 1,
   "metadata": {
    "collapsed": false
   },
   "outputs": [
    {
     "name": "stdout",
     "output_type": "stream",
     "text": [
      "xml\\SearchSTNBySubwayLineService\\1\\10\\2\n"
     ]
    }
   ],
   "source": [
    "import os\n",
    "import src.mylib\n",
    "\n",
    "keyPath=os.path.join(os.getcwd(), 'src', 'key.properties')\n",
    "key=src.mylib.getKey(keyPath)\n",
    "KEY=str(key['dataseoul'])\n",
    "TYPE='xml'\n",
    "SERVICE='SearchSTNBySubwayLineService'\n",
    "START_INDEX=str(1)\n",
    "END_INDEX=str(10)\n",
    "LINE_NUM=str(2)\n",
    "\n",
    "params=os.path.join(KEY,TYPE,SERVICE,START_INDEX,END_INDEX,LINE_NUM)\n",
    "print params[31:]"
   ]
  },
  {
   "cell_type": "code",
   "execution_count": 3,
   "metadata": {
    "collapsed": false
   },
   "outputs": [
    {
     "name": "stdout",
     "output_type": "stream",
     "text": [
      "http://openAPI.seoul.go.kr:8088/6a587a496761736433385479667647/xml/SearchSTNBySubwayLineService/1/10/2\n"
     ]
    }
   ],
   "source": [
    "import urlparse\n",
    "_url='http://openAPI.seoul.go.kr:8088/'\n",
    "url='http://openAPI.seoul.go.kr:8088/6a587a496761736433385479667647/xml/SearchSTNBySubwayLineService/1/10/2'\n",
    "print url"
   ]
  },
  {
   "cell_type": "code",
   "execution_count": 4,
   "metadata": {
    "collapsed": false
   },
   "outputs": [
    {
     "name": "stdout",
     "output_type": "stream",
     "text": [
      "<?xml version=\"1.0\" encoding=\"UTF-8\"?>\n",
      "<SearchSTNBySubwayLineService>\n",
      "<list_total_count>51</list_total_count>\n",
      "<RESULT>\n",
      "<CODE>INFO-000</CODE>\n",
      "<MESSAGE>정상 처리되었습니다</MESSAGE>\n",
      "</RESULT>\n",
      "<row>\n",
      "<STATION_CD>0201</STATION_CD>\n",
      "<STATION_NM>시청</STATION_NM>\n",
      "<LINE_NUM>2</LINE_NUM>\n",
      "<FR_CODE>201</FR_CODE>\n",
      "</row>\n",
      "<row>\n",
      "<STATION_CD>0202</STATION_CD>\n",
      "<STATION_NM>을지로입구</STATION_NM>\n",
      "<LINE_NUM>2</LINE_NUM>\n",
      "<FR_CODE>202</FR_CODE>\n",
      "</row>\n",
      "<row>\n",
      "<STATION_CD>0203</STATION_CD>\n",
      "<STATION_NM>을지로3가</STATION_NM>\n",
      "<LINE_NUM>2</LI\n"
     ]
    }
   ],
   "source": [
    "import requests\n",
    "data=requests.get(url).text\n",
    "print data[:500]"
   ]
  },
  {
   "cell_type": "code",
   "execution_count": null,
   "metadata": {
    "collapsed": true
   },
   "outputs": [],
   "source": []
  }
 ],
 "metadata": {
  "kernelspec": {
   "display_name": "Python 2",
   "language": "python",
   "name": "python2"
  },
  "language_info": {
   "codemirror_mode": {
    "name": "ipython",
    "version": 2
   },
   "file_extension": ".py",
   "mimetype": "text/x-python",
   "name": "python",
   "nbconvert_exporter": "python",
   "pygments_lexer": "ipython2",
   "version": "2.7.13"
  }
 },
 "nbformat": 4,
 "nbformat_minor": 2
}
